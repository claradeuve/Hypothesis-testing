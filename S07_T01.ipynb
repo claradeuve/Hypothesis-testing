{
 "cells": [
  {
   "cell_type": "markdown",
   "id": "e0110938",
   "metadata": {},
   "source": [
    "## Exercici 1\n",
    "Agafa un conjunt de dades de tema esportiu que t'agradi i selecciona un atribut del conjunt de dades. Calcula el p-valor i digues si rebutja la hipòtesi nul·la agafant un alfa de 5%"
   ]
  },
  {
   "cell_type": "markdown",
   "id": "f0b33246",
   "metadata": {},
   "source": [
    "Atributos: *Body Mass Max (g)*\n",
    "\n",
    "Hipótesis alternativa: *Media Body Mass Max de Minnesotta = Media Body Mass Max global*"
   ]
  },
  {
   "cell_type": "code",
   "execution_count": 11,
   "id": "53713497",
   "metadata": {},
   "outputs": [
    {
     "name": "stdout",
     "output_type": "stream",
     "text": [
      "<class 'pandas.core.frame.DataFrame'>\n",
      "RangeIndex: 444 entries, 0 to 443\n",
      "Data columns (total 18 columns):\n",
      " #   Column                    Non-Null Count  Dtype  \n",
      "---  ------                    --------------  -----  \n",
      " 0   Name                      444 non-null    object \n",
      " 1   Scientific Name           444 non-null    object \n",
      " 2   Indicator or Other Notes  140 non-null    object \n",
      " 3   Category                  444 non-null    object \n",
      " 4   State                     45 non-null     object \n",
      " 5   Kingdom                   444 non-null    object \n",
      " 6   Phylum                    444 non-null    object \n",
      " 7   Class                     444 non-null    object \n",
      " 8   Order                     444 non-null    object \n",
      " 9   Family                    444 non-null    object \n",
      " 10  Genus                     444 non-null    object \n",
      " 11  Conservation status       443 non-null    object \n",
      " 12  Length Min (cm)           444 non-null    float64\n",
      " 13  Length Max (cm)           444 non-null    float64\n",
      " 14  Body Mass Min (g)         444 non-null    float64\n",
      " 15  Body Mass Max (g)         444 non-null    float64\n",
      " 16  Wingspan Min (cm)         443 non-null    float64\n",
      " 17  Wingspan Max (cm)         443 non-null    float64\n",
      "dtypes: float64(6), object(12)\n",
      "memory usage: 62.6+ KB\n",
      "<class 'pandas.core.frame.DataFrame'>\n",
      "RangeIndex: 444 entries, 0 to 443\n",
      "Data columns (total 18 columns):\n",
      " #   Column                    Non-Null Count  Dtype  \n",
      "---  ------                    --------------  -----  \n",
      " 0   Name                      444 non-null    object \n",
      " 1   Scientific Name           444 non-null    object \n",
      " 2   Indicator or Other Notes  444 non-null    object \n",
      " 3   Category                  444 non-null    object \n",
      " 4   State                     444 non-null    object \n",
      " 5   Kingdom                   444 non-null    object \n",
      " 6   Phylum                    444 non-null    object \n",
      " 7   Class                     444 non-null    object \n",
      " 8   Order                     444 non-null    object \n",
      " 9   Family                    444 non-null    object \n",
      " 10  Genus                     444 non-null    object \n",
      " 11  Conservation status       444 non-null    object \n",
      " 12  Length Min (cm)           444 non-null    float64\n",
      " 13  Length Max (cm)           444 non-null    float64\n",
      " 14  Body Mass Min (g)         444 non-null    float64\n",
      " 15  Body Mass Max (g)         444 non-null    float64\n",
      " 16  Wingspan Min (cm)         444 non-null    float64\n",
      " 17  Wingspan Max (cm)         444 non-null    float64\n",
      "dtypes: float64(6), object(12)\n",
      "memory usage: 62.6+ KB\n",
      "None \n",
      "\n",
      "\n",
      "tscore=0.40, p=0.69\n",
      "No se rechaza la hipótesis nula. Los pájaros de Minnesota no tienen igual masa corporal máxima media que los del resto del mundo\n"
     ]
    }
   ],
   "source": [
    "import pandas as pd\n",
    "from scipy.stats import ttest_1samp\n",
    "\n",
    "df_birds = pd.read_csv(\"Minnesota Birds.csv\")\n",
    "df_birds.info()\n",
    "df_birds['Conservation status'] = df_birds[\"Conservation status\"].fillna(\"Undefined\")\n",
    "df_birds['State'] = df_birds[\"State\"].fillna(\"Undefined\")\n",
    "df_birds['Indicator or Other Notes'] = df_birds[\"Indicator or Other Notes\"].fillna(\"Undefined\")\n",
    "df_birds = df_birds.fillna(0)\n",
    "print(df_birds.info(), \"\\n\\n\")\n",
    "\n",
    "alpha = 0.05\n",
    "\n",
    "body_mass_max_global_mean = 634\n",
    "body_mass_max_minnesota = df_birds['Body Mass Max (g)']\n",
    "\n",
    "tscore, p = ttest_1samp(body_mass_max_minnesota, popmean=body_mass_max_global_mean)\n",
    "print('tscore=%.2f, p=%.2f' % (tscore, p))\n",
    "\n",
    "if p/2 > alpha:\n",
    "    print(\"No se rechaza la hipótesis nula. Los pájaros de Minnesota no tienen igual masa corporal máxima media que los del resto del mundo\")\n",
    "elif p/2 <= alpha:\n",
    "    print(\"Se rechaza la hipótesis nula. Los pájaros de Minnesota tienen igual masa corporal máxima media que los del resto del mundo\")"
   ]
  },
  {
   "cell_type": "markdown",
   "id": "141ec83f",
   "metadata": {},
   "source": [
    "## Exercici 2\n",
    "Continua amb el conjunt de dades de tema esportiu que t'agradi i selecciona dos altres atributs del conjunt de dades. Calcula els p-valors i digues si rebutgen la hipòtesi nul·la agafant un alfa de 5%"
   ]
  },
  {
   "cell_type": "markdown",
   "id": "2017f106",
   "metadata": {},
   "source": [
    "Atributos: *Family, Wingspan Min (cm)*\n",
    "    \n",
    "Hipótesis alternativa: *Media Wingspan Min de buitres > Media Wingspan Min de palomas*"
   ]
  },
  {
   "cell_type": "code",
   "execution_count": 3,
   "id": "65113986",
   "metadata": {},
   "outputs": [
    {
     "name": "stdout",
     "output_type": "stream",
     "text": [
      "tscore=9.10, p=0.00\n",
      "Se rechaza la hipótesis nula. Los buitres tienen una envergadura de alas mínima media mayor que las palomas\n"
     ]
    },
    {
     "data": {
      "text/plain": [
       "<AxesSubplot:xlabel='Family', ylabel='Wingspan Min (cm)'>"
      ]
     },
     "execution_count": 3,
     "metadata": {},
     "output_type": "execute_result"
    },
    {
     "data": {
      "image/png": "[encoded data removed]",
      "text/plain": [
       "<Figure size 432x288 with 1 Axes>"
      ]
     },
     "metadata": {
      "needs_background": "light"
     },
     "output_type": "display_data"
    }
   ],
   "source": [
    "import seaborn as sns\n",
    "from scipy.stats import ttest_ind\n",
    "\n",
    "buitres = df_birds[df_birds['Family']=='Cathartidae']['Wingspan Min (cm)']\n",
    "palomas = df_birds[df_birds['Family']=='Columbidae']['Wingspan Min (cm)']\n",
    "\n",
    "tscore, p = ttest_ind(buitres, palomas)\n",
    "print('tscore=%.2f, p=%.2f' % (tscore, p))\n",
    "if p > alpha:\n",
    "    print('No se rechaza la hipótesis nula. Los buitres no tienen una envergadura de alas mínima media mayor que las palomas ')\n",
    "else:\n",
    "    print('Se rechaza la hipótesis nula. Los buitres tienen una envergadura de alas mínima media mayor que las palomas')\n",
    "\n",
    "df_birds_wingspan = df_birds[(df_birds['Family']=='Cathartidae') | (df_birds['Family']=='Columbidae')]\n",
    "sns.boxplot(x='Family', y='Wingspan Min (cm)', data=df_birds_wingspan, linewidth=1)"
   ]
  },
  {
   "cell_type": "markdown",
   "id": "0f081023",
   "metadata": {},
   "source": [
    "Atributos: *Family, Body Mass Min (g)*\n",
    "\n",
    "Hipótesis alternativa: *Media Body Mass Min varía entre los patos, los córvidos y las halcones*"
   ]
  },
  {
   "cell_type": "code",
   "execution_count": 4,
   "id": "e541015a",
   "metadata": {},
   "outputs": [
    {
     "name": "stdout",
     "output_type": "stream",
     "text": [
      "tscore=1.54, p=0.22\n",
      "No se rechaza la hipótesis nula. Patos, córvidos y halcones tienen masas corporales medias similares\n"
     ]
    },
    {
     "data": {
      "text/plain": [
       "<AxesSubplot:xlabel='Family', ylabel='Body Mass Min (g)'>"
      ]
     },
     "execution_count": 4,
     "metadata": {},
     "output_type": "execute_result"
    },
    {
     "data": {
      "image/png": "[encoded data removed]",
      "text/plain": [
       "<Figure size 432x288 with 1 Axes>"
      ]
     },
     "metadata": {
      "needs_background": "light"
     },
     "output_type": "display_data"
    }
   ],
   "source": [
    "from scipy.stats import f_oneway\n",
    "\n",
    "patos = df_birds[df_birds['Family']=='Anatidae']['Body Mass Min (g)']\n",
    "corvidos = df_birds[df_birds['Family']=='Corvidae']['Body Mass Min (g)']\n",
    "halcones = df_birds[df_birds['Family']=='Falconidae']['Body Mass Min (g)']\n",
    "tscore, p = f_oneway(patos, corvidos, halcones)\n",
    "print('tscore=%.2f, p=%.2f' % (tscore, p))\n",
    "if p > alpha:\n",
    "    print('No se rechaza la hipótesis nula. Patos, córvidos y halcones tienen masas corporales medias similares')\n",
    "else:\n",
    "    print('Se rechaza la hipótesis nula. Patos, córvidos y halcones tienen masas corporales medias diferentes')\n",
    "    \n",
    "df_birds_bodyMass = df_birds[(df_birds['Family']=='Anatidae') | (df_birds['Family']=='Corvidae') | (df_birds['Family']=='Falconidae')]\n",
    "sns.boxplot(x='Family', y='Body Mass Min (g)', data=df_birds_bodyMass, linewidth=0.5)"
   ]
  },
  {
   "cell_type": "markdown",
   "id": "67b5e8bd",
   "metadata": {},
   "source": [
    "Atributos: \n",
    "*Family, Length Max (cm)*\n",
    "\n",
    "Hipótesis alternativa:\n",
    "*Media de Length Max de pájaros carpinteros de Minnesota < Media de Length Max de pájaros carpinteros global*"
   ]
  },
  {
   "cell_type": "code",
   "execution_count": 5,
   "id": "f28c37fe",
   "metadata": {},
   "outputs": [
    {
     "name": "stdout",
     "output_type": "stream",
     "text": [
      "tscore=-8.92, p=0.00\n",
      "Se rechaza la hipótesis nula. Los pájaros carpinteros de Minnesota son más pequeños que los del resto del mundo\n"
     ]
    }
   ],
   "source": [
    "from scipy.stats import ttest_1samp\n",
    "\n",
    "woodpeckers_length_max_global_mean = 48.2 # valor de referencia obtenido de https://kidadl.com/animal-facts/woodpecker-facts\n",
    "woodpeckers_length_max_minnesota = df_birds[(df_birds['Category'] == 'Woodpeckers')]['Length Max (cm)']\n",
    "\n",
    "tscore, p = ttest_1samp(woodpeckers_length_max_minnesota, popmean=woodpeckers_length_max_global_mean)\n",
    "print('tscore=%.2f, p=%.2f' % (tscore, p))\n",
    "\n",
    "if p > alpha:\n",
    "    print(\"No se rechaza la hipótesis nula. Los pájaros carpinteros de Minnesota no son más pequeños que los del resto del mundo\")\n",
    "elif p <= alpha:\n",
    "    print(\"Se rechaza la hipótesis nula. Los pájaros carpinteros de Minnesota son más pequeños que los del resto del mundo\")"
   ]
  },
  {
   "cell_type": "markdown",
   "id": "6ba36feb",
   "metadata": {},
   "source": [
    "## Exercici 3\n",
    "Continua amb el conjunt de dades de tema esportiu que t'agradi i selecciona tres atributs del conjunt de dades. Calcula el p-valor i digues si rebutja la hipòtesi nul·la agafant un alfa de 5%"
   ]
  },
  {
   "cell_type": "markdown",
   "id": "1792e474",
   "metadata": {},
   "source": [
    "Atributos: \n",
    "*Family, Wingspan Max (cm), Conservation Status*\n",
    "\n",
    "Hipótesis alternativa:\n",
    "*Media de Wingspan Max de escolopácidos en peligro de extinción > Media Wingspan Max escolopácidos no en peligro*"
   ]
  },
  {
   "cell_type": "code",
   "execution_count": 6,
   "id": "a6894845",
   "metadata": {},
   "outputs": [
    {
     "name": "stdout",
     "output_type": "stream",
     "text": [
      "tscore=1.57, p=0.12\n",
      "No se rechaza la hipótesis nula. Los escolopácidos en peligro de extinción no tienen una envergadura de ala máxima media mayor\n"
     ]
    },
    {
     "data": {
      "text/plain": [
       "<AxesSubplot:xlabel='IsEndangered', ylabel='Wingspan Max (cm)'>"
      ]
     },
     "execution_count": 6,
     "metadata": {},
     "output_type": "execute_result"
    },
    {
     "data": {
      "image/png": "[encoded data removed]",
      "text/plain": [
       "<Figure size 432x288 with 1 Axes>"
      ]
     },
     "metadata": {
      "needs_background": "light"
     },
     "output_type": "display_data"
    }
   ],
   "source": [
    "import seaborn as sns\n",
    "from scipy.stats import ttest_ind\n",
    "\n",
    "# Preparación de nuevas columnas para el análisis\n",
    "df_birds.loc[(df_birds['Conservation status'] == 'LC') | (df_birds['Conservation status'] == 'NT'), 'IsEndangered'] = 'Not Endangered'  \n",
    "df_birds.loc[(df_birds['Conservation status'] != 'LC') & (df_birds['Conservation status'] != 'NT') & (df_birds['Conservation status'] != 'Undefined'), 'IsEndangered'] = 'Endangered'\n",
    "\n",
    "esco_peligro = df_birds[(df_birds['Family']=='Scolopacidae') & (df_birds['Conservation status'] != \"LC\") & (df_birds['Conservation status'] != \"NT\") & (df_birds['Conservation status'] != \"0\")]\n",
    "esco_no_peligro = df_birds[(df_birds['Family']=='Scolopacidae') & (df_birds['Conservation status'] == \"LC\") | (df_birds['Conservation status'] == \"NT\")]\n",
    "\n",
    "wingspan_esco_peligro = esco_peligro['Wingspan Max (cm)']\n",
    "wingspan_esco_no_peligro = esco_no_peligro['Wingspan Max (cm)']\n",
    "\n",
    "tscore, p = ttest_ind(wingspan_esco_peligro, wingspan_esco_no_peligro)\n",
    "print('tscore=%.2f, p=%.2f' % (tscore, p))\n",
    "if p > alpha:\n",
    "    print('No se rechaza la hipótesis nula. Los escolopácidos en peligro de extinción no tienen una envergadura de ala máxima media mayor')\n",
    "else:\n",
    "    print('Se rechaza la hipótesis nula. Los escolopácidos en peligro de extinción tienen una envergadura de ala máxima media mayor')\n",
    "\n",
    "df_birds_esco = df_birds[(df_birds['Family']=='Scolopacidae')]\n",
    "sns.scatterplot(x='IsEndangered', y='Wingspan Max (cm)', data=df_birds_esco)"
   ]
  },
  {
   "cell_type": "code",
   "execution_count": null,
   "id": "47be1629",
   "metadata": {},
   "outputs": [],
   "source": []
  }
 ],
 "metadata": {
  "kernelspec": {
   "display_name": "Python 3 (ipykernel)",
   "language": "python",
   "name": "python3"
  },
  "language_info": {
   "codemirror_mode": {
    "name": "ipython",
    "version": 3
   },
   "file_extension": ".py",
   "mimetype": "text/x-python",
   "name": "python",
   "nbconvert_exporter": "python",
   "pygments_lexer": "ipython3",
   "version": "3.9.7"
  }
 },
 "nbformat": 4,
 "nbformat_minor": 5
}
